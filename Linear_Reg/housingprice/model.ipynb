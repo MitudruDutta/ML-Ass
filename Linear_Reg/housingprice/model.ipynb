{
 "cells": [
  {
   "cell_type": "markdown",
   "metadata": {},
   "source": [
    "# 🏠 Simple House Price Prediction\n",
    "\n",
    "**Goal**: Predict house prices using machine learning\n",
    "\n",
    "**What we'll learn**:\n",
    "- How to load and explore data\n",
    "- How to train a machine learning model\n",
    "- How to make predictions\n",
    "- How to check if our model is good"
   ]
  },
  {
   "cell_type": "markdown",
   "metadata": {},
   "source": [
    "## Step 1: Import Libraries\n",
    "These are tools that help us work with data and create models"
   ]
  },
  {
   "cell_type": "code",
   "execution_count": 2,
   "metadata": {},
   "outputs": [
    {
     "name": "stdout",
     "output_type": "stream",
     "text": [
      "✅ Libraries loaded successfully!\n"
     ]
    }
   ],
   "source": [
    "import pandas as pd\n",
    "import numpy as np\n",
    "import matplotlib.pyplot as plt\n",
    "from sklearn.model_selection import train_test_split\n",
    "from sklearn.linear_model import LinearRegression\n",
    "from sklearn.metrics import r2_score, mean_absolute_error\n",
    "\n",
    "print(\"✅ Libraries loaded successfully!\")"
   ]
  },
  {
   "cell_type": "markdown",
   "metadata": {},
   "source": [
    "## Step 2: Load the Data\n",
    "Let's look at our house price dataset"
   ]
  },
  {
   "cell_type": "code",
   "execution_count": 3,
   "metadata": {},
   "outputs": [
    {
     "name": "stdout",
     "output_type": "stream",
     "text": [
      "📊 Dataset loaded! We have 5000 houses\n",
      "📋 Columns: ['Avg. Area Income', 'Avg. Area House Age', 'Avg. Area Number of Rooms', 'Avg. Area Number of Bedrooms', 'Area Population', 'Price', 'Address']\n",
      "\n",
      "🏠 First 5 houses:\n"
     ]
    },
    {
     "data": {
      "text/html": [
       "<div>\n",
       "<style scoped>\n",
       "    .dataframe tbody tr th:only-of-type {\n",
       "        vertical-align: middle;\n",
       "    }\n",
       "\n",
       "    .dataframe tbody tr th {\n",
       "        vertical-align: top;\n",
       "    }\n",
       "\n",
       "    .dataframe thead th {\n",
       "        text-align: right;\n",
       "    }\n",
       "</style>\n",
       "<table border=\"1\" class=\"dataframe\">\n",
       "  <thead>\n",
       "    <tr style=\"text-align: right;\">\n",
       "      <th></th>\n",
       "      <th>Avg. Area Income</th>\n",
       "      <th>Avg. Area House Age</th>\n",
       "      <th>Avg. Area Number of Rooms</th>\n",
       "      <th>Avg. Area Number of Bedrooms</th>\n",
       "      <th>Area Population</th>\n",
       "      <th>Price</th>\n",
       "      <th>Address</th>\n",
       "    </tr>\n",
       "  </thead>\n",
       "  <tbody>\n",
       "    <tr>\n",
       "      <th>0</th>\n",
       "      <td>79545.458574</td>\n",
       "      <td>5.682861</td>\n",
       "      <td>7.009188</td>\n",
       "      <td>4.09</td>\n",
       "      <td>23086.800503</td>\n",
       "      <td>1.059034e+06</td>\n",
       "      <td>208 Michael Ferry Apt. 674\\nLaurabury, NE 3701...</td>\n",
       "    </tr>\n",
       "    <tr>\n",
       "      <th>1</th>\n",
       "      <td>79248.642455</td>\n",
       "      <td>6.002900</td>\n",
       "      <td>6.730821</td>\n",
       "      <td>3.09</td>\n",
       "      <td>40173.072174</td>\n",
       "      <td>1.505891e+06</td>\n",
       "      <td>188 Johnson Views Suite 079\\nLake Kathleen, CA...</td>\n",
       "    </tr>\n",
       "    <tr>\n",
       "      <th>2</th>\n",
       "      <td>61287.067179</td>\n",
       "      <td>5.865890</td>\n",
       "      <td>8.512727</td>\n",
       "      <td>5.13</td>\n",
       "      <td>36882.159400</td>\n",
       "      <td>1.058988e+06</td>\n",
       "      <td>9127 Elizabeth Stravenue\\nDanieltown, WI 06482...</td>\n",
       "    </tr>\n",
       "    <tr>\n",
       "      <th>3</th>\n",
       "      <td>63345.240046</td>\n",
       "      <td>7.188236</td>\n",
       "      <td>5.586729</td>\n",
       "      <td>3.26</td>\n",
       "      <td>34310.242831</td>\n",
       "      <td>1.260617e+06</td>\n",
       "      <td>USS Barnett\\nFPO AP 44820</td>\n",
       "    </tr>\n",
       "    <tr>\n",
       "      <th>4</th>\n",
       "      <td>59982.197226</td>\n",
       "      <td>5.040555</td>\n",
       "      <td>7.839388</td>\n",
       "      <td>4.23</td>\n",
       "      <td>26354.109472</td>\n",
       "      <td>6.309435e+05</td>\n",
       "      <td>USNS Raymond\\nFPO AE 09386</td>\n",
       "    </tr>\n",
       "  </tbody>\n",
       "</table>\n",
       "</div>"
      ],
      "text/plain": [
       "   Avg. Area Income  Avg. Area House Age  Avg. Area Number of Rooms  \\\n",
       "0      79545.458574             5.682861                   7.009188   \n",
       "1      79248.642455             6.002900                   6.730821   \n",
       "2      61287.067179             5.865890                   8.512727   \n",
       "3      63345.240046             7.188236                   5.586729   \n",
       "4      59982.197226             5.040555                   7.839388   \n",
       "\n",
       "   Avg. Area Number of Bedrooms  Area Population         Price  \\\n",
       "0                          4.09     23086.800503  1.059034e+06   \n",
       "1                          3.09     40173.072174  1.505891e+06   \n",
       "2                          5.13     36882.159400  1.058988e+06   \n",
       "3                          3.26     34310.242831  1.260617e+06   \n",
       "4                          4.23     26354.109472  6.309435e+05   \n",
       "\n",
       "                                             Address  \n",
       "0  208 Michael Ferry Apt. 674\\nLaurabury, NE 3701...  \n",
       "1  188 Johnson Views Suite 079\\nLake Kathleen, CA...  \n",
       "2  9127 Elizabeth Stravenue\\nDanieltown, WI 06482...  \n",
       "3                          USS Barnett\\nFPO AP 44820  \n",
       "4                         USNS Raymond\\nFPO AE 09386  "
      ]
     },
     "execution_count": 3,
     "metadata": {},
     "output_type": "execute_result"
    }
   ],
   "source": [
    "# Load the dataset\n",
    "df = pd.read_csv('housing_price_dataset.csv')\n",
    "\n",
    "print(f\"📊 Dataset loaded! We have {len(df)} houses\")\n",
    "print(f\"📋 Columns: {list(df.columns)}\")\n",
    "\n",
    "# Show first 5 houses\n",
    "print(\"\\n🏠 First 5 houses:\")\n",
    "df.head()"
   ]
  },
  {
   "cell_type": "markdown",
   "metadata": {},
   "source": [
    "## Step 3: Explore the Data\n",
    "Let's understand what we're working with"
   ]
  },
  {
   "cell_type": "code",
   "execution_count": 4,
   "metadata": {},
   "outputs": [
    {
     "name": "stdout",
     "output_type": "stream",
     "text": [
      "📈 Basic Statistics:\n",
      "       Avg. Area Income  Avg. Area House Age  Avg. Area Number of Rooms  \\\n",
      "count       5000.000000          5000.000000                5000.000000   \n",
      "mean       68583.108984             5.977222                   6.987792   \n",
      "std        10657.991214             0.991456                   1.005833   \n",
      "min        17796.631190             2.644304                   3.236194   \n",
      "25%        61480.562388             5.322283                   6.299250   \n",
      "50%        68804.286404             5.970429                   7.002902   \n",
      "75%        75783.338666             6.650808                   7.665871   \n",
      "max       107701.748378             9.519088                  10.759588   \n",
      "\n",
      "       Avg. Area Number of Bedrooms  Area Population         Price  \n",
      "count                   5000.000000      5000.000000  5.000000e+03  \n",
      "mean                       3.981330     36163.516039  1.232073e+06  \n",
      "std                        1.234137      9925.650114  3.531176e+05  \n",
      "min                        2.000000       172.610686  1.593866e+04  \n",
      "25%                        3.140000     29403.928702  9.975771e+05  \n",
      "50%                        4.050000     36199.406689  1.232669e+06  \n",
      "75%                        4.490000     42861.290769  1.471210e+06  \n",
      "max                        6.500000     69621.713378  2.469066e+06  \n",
      "\n",
      "❓ Missing values: 0\n",
      "\n",
      "💰 Price Range:\n",
      "   Cheapest house: $15,939\n",
      "   Most expensive: $2,469,066\n",
      "   Average price:  $1,232,073\n"
     ]
    }
   ],
   "source": [
    "# Basic statistics\n",
    "print(\"📈 Basic Statistics:\")\n",
    "print(df.describe())\n",
    "\n",
    "# Check for missing data\n",
    "print(f\"\\n❓ Missing values: {df.isnull().sum().sum()}\")\n",
    "\n",
    "# Price range\n",
    "print(f\"\\n💰 Price Range:\")\n",
    "print(f\"   Cheapest house: ${df['Price'].min():,.0f}\")\n",
    "print(f\"   Most expensive: ${df['Price'].max():,.0f}\")\n",
    "print(f\"   Average price:  ${df['Price'].mean():,.0f}\")"
   ]
  },
  {
   "cell_type": "markdown",
   "metadata": {},
   "source": [
    "## Step 4: Prepare the Data\n",
    "Choose which features (columns) to use for prediction"
   ]
  },
  {
   "cell_type": "code",
   "execution_count": 5,
   "metadata": {},
   "outputs": [
    {
     "name": "stdout",
     "output_type": "stream",
     "text": [
      "🎯 Features we'll use: ['Avg. Area Income', 'Avg. Area House Age', 'Avg. Area Number of Rooms', 'Avg. Area Number of Bedrooms', 'Area Population']\n",
      "🏷️  Target: Price\n",
      "📊 Data shape: (5000, 5)\n"
     ]
    }
   ],
   "source": [
    "# Choose features (input) and target (output)\n",
    "features = ['Avg. Area Income', 'Avg. Area House Age', 'Avg. Area Number of Rooms', \n",
    "           'Avg. Area Number of Bedrooms', 'Area Population']\n",
    "\n",
    "X = df[features]  # Features (what we use to predict)\n",
    "y = df['Price']   # Target (what we want to predict)\n",
    "\n",
    "print(f\"🎯 Features we'll use: {features}\")\n",
    "print(f\"🏷️  Target: Price\")\n",
    "print(f\"📊 Data shape: {X.shape}\")"
   ]
  },
  {
   "cell_type": "markdown",
   "metadata": {},
   "source": [
    "## Step 5: Split the Data\n",
    "Divide data into training (to teach the model) and testing (to check how good it is)"
   ]
  },
  {
   "cell_type": "code",
   "execution_count": 6,
   "metadata": {},
   "outputs": [
    {
     "name": "stdout",
     "output_type": "stream",
     "text": [
      "📚 Training data: 4000 houses\n",
      "🧪 Testing data:  1000 houses\n",
      "✅ Data split successfully!\n"
     ]
    }
   ],
   "source": [
    "# Split data: 80% for training, 20% for testing\n",
    "X_train, X_test, y_train, y_test = train_test_split(\n",
    "    X, y, test_size=0.2, random_state=42\n",
    ")\n",
    "\n",
    "print(f\"📚 Training data: {len(X_train)} houses\")\n",
    "print(f\"🧪 Testing data:  {len(X_test)} houses\")\n",
    "print(f\"✅ Data split successfully!\")"
   ]
  },
  {
   "cell_type": "markdown",
   "metadata": {},
   "source": [
    "## Step 6: Train the Model\n",
    "Teach the computer to predict house prices"
   ]
  },
  {
   "cell_type": "code",
   "execution_count": 7,
   "metadata": {},
   "outputs": [
    {
     "name": "stdout",
     "output_type": "stream",
     "text": [
      "🤖 Model trained successfully!\n",
      "🎓 The computer has learned to predict house prices!\n"
     ]
    }
   ],
   "source": [
    "# Create and train the model\n",
    "model = LinearRegression()\n",
    "model.fit(X_train, y_train)\n",
    "\n",
    "print(\"🤖 Model trained successfully!\")\n",
    "print(\"🎓 The computer has learned to predict house prices!\")"
   ]
  },
  {
   "cell_type": "markdown",
   "metadata": {},
   "source": [
    "## Step 7: Make Predictions\n",
    "Use our trained model to predict prices"
   ]
  },
  {
   "cell_type": "code",
   "execution_count": 8,
   "metadata": {},
   "outputs": [
    {
     "name": "stdout",
     "output_type": "stream",
     "text": [
      "🔮 Made predictions for 1000 houses!\n",
      "📊 Prediction range: $258,046 to $2,474,726\n"
     ]
    }
   ],
   "source": [
    "# Make predictions on test data\n",
    "y_pred = model.predict(X_test)\n",
    "\n",
    "print(f\"🔮 Made predictions for {len(y_pred)} houses!\")\n",
    "print(f\"📊 Prediction range: ${y_pred.min():,.0f} to ${y_pred.max():,.0f}\")"
   ]
  },
  {
   "cell_type": "markdown",
   "metadata": {},
   "source": [
    "## Step 8: Check Model Performance\n",
    "How good are our predictions?"
   ]
  },
  {
   "cell_type": "code",
   "execution_count": 9,
   "metadata": {},
   "outputs": [
    {
     "name": "stdout",
     "output_type": "stream",
     "text": [
      "📊 Model Performance:\n",
      "   R² Score: 0.918 (closer to 1.0 is better)\n",
      "   Average Error: $80,879\n",
      "\n",
      "💡 What this means:\n",
      "   Our model explains 91.8% of price variation\n",
      "   On average, predictions are off by $80,879\n",
      "🎉 Excellent model!\n"
     ]
    }
   ],
   "source": [
    "# Calculate accuracy metrics\n",
    "r2 = r2_score(y_test, y_pred)\n",
    "mae = mean_absolute_error(y_test, y_pred)\n",
    "\n",
    "print(f\"📊 Model Performance:\")\n",
    "print(f\"   R² Score: {r2:.3f} (closer to 1.0 is better)\")\n",
    "print(f\"   Average Error: ${mae:,.0f}\")\n",
    "\n",
    "# Interpret the results\n",
    "accuracy_percent = r2 * 100\n",
    "print(f\"\\n💡 What this means:\")\n",
    "print(f\"   Our model explains {accuracy_percent:.1f}% of price variation\")\n",
    "print(f\"   On average, predictions are off by ${mae:,.0f}\")\n",
    "\n",
    "if r2 > 0.8:\n",
    "    print(\"🎉 Excellent model!\")\n",
    "elif r2 > 0.7:\n",
    "    print(\"👍 Good model!\")\n",
    "elif r2 > 0.6:\n",
    "    print(\"👌 Decent model\")\n",
    "else:\n",
    "    print(\"⚠️ Model needs improvement\")"
   ]
  },
  {
   "cell_type": "markdown",
   "metadata": {},
   "source": [
    "## Step 9: Visualize Results\n",
    "Let's see how well our predictions match reality"
   ]
  },
  {
   "cell_type": "code",
   "execution_count": 10,
   "metadata": {},
   "outputs": [
    {
     "data": {
      "image/png": "[encoded data removed]",
      "text/plain": [
       "<Figure size 1000x600 with 1 Axes>"
      ]
     },
     "metadata": {},
     "output_type": "display_data"
    },
    {
     "name": "stdout",
     "output_type": "stream",
     "text": [
      "📈 The red line shows perfect predictions\n",
      "📊 Points closer to the red line = better predictions\n"
     ]
    }
   ],
   "source": [
    "# Create a scatter plot\n",
    "plt.figure(figsize=(10, 6))\n",
    "plt.scatter(y_test, y_pred, alpha=0.6, color='blue')\n",
    "plt.plot([y_test.min(), y_test.max()], [y_test.min(), y_test.max()], 'r--', lw=2)\n",
    "plt.xlabel('Actual Price ($)')\n",
    "plt.ylabel('Predicted Price ($)')\n",
    "plt.title('Actual vs Predicted House Prices')\n",
    "plt.grid(True, alpha=0.3)\n",
    "\n",
    "# Add text with performance\n",
    "plt.text(0.05, 0.95, f'R² = {r2:.3f}\\nAvg Error = ${mae:,.0f}', \n",
    "         transform=plt.gca().transAxes, bbox=dict(boxstyle='round', facecolor='white'))\n",
    "\n",
    "plt.show()\n",
    "\n",
    "print(\"📈 The red line shows perfect predictions\")\n",
    "print(\"📊 Points closer to the red line = better predictions\")"
   ]
  },
  {
   "cell_type": "markdown",
   "metadata": {},
   "source": [
    "## Step 10: Example Predictions\n",
    "Let's see some specific examples"
   ]
  },
  {
   "cell_type": "code",
   "execution_count": 11,
   "metadata": {},
   "outputs": [
    {
     "name": "stdout",
     "output_type": "stream",
     "text": [
      "🏠 Example Predictions:\n",
      "==================================================\n",
      "\n",
      "House 1:\n",
      "  Actual Price:    $1,339,096\n",
      "  Predicted Price: $1,308,588\n",
      "  Error:           $30,508\n",
      "  ✅ Better than average prediction!\n",
      "\n",
      "House 2:\n",
      "  Actual Price:    $1,251,794\n",
      "  Predicted Price: $1,237,037\n",
      "  Error:           $14,757\n",
      "  ✅ Better than average prediction!\n",
      "\n",
      "House 3:\n",
      "  Actual Price:    $1,340,095\n",
      "  Predicted Price: $1,243,429\n",
      "  Error:           $96,666\n",
      "  ⚠️ Worse than average prediction\n",
      "\n",
      "House 4:\n",
      "  Actual Price:    $1,431,508\n",
      "  Predicted Price: $1,228,900\n",
      "  Error:           $202,607\n",
      "  ⚠️ Worse than average prediction\n",
      "\n",
      "House 5:\n",
      "  Actual Price:    $1,042,374\n",
      "  Predicted Price: $1,063,321\n",
      "  Error:           $20,947\n",
      "  ✅ Better than average prediction!\n"
     ]
    }
   ],
   "source": [
    "# Show 5 example predictions\n",
    "print(\"🏠 Example Predictions:\")\n",
    "print(\"=\" * 50)\n",
    "\n",
    "for i in range(5):\n",
    "    actual = y_test.iloc[i]\n",
    "    predicted = y_pred[i]\n",
    "    error = abs(actual - predicted)\n",
    "    \n",
    "    print(f\"\\nHouse {i+1}:\")\n",
    "    print(f\"  Actual Price:    ${actual:,.0f}\")\n",
    "    print(f\"  Predicted Price: ${predicted:,.0f}\")\n",
    "    print(f\"  Error:           ${error:,.0f}\")\n",
    "    \n",
    "    if error < mae:\n",
    "        print(f\"  ✅ Better than average prediction!\")\n",
    "    else:\n",
    "        print(f\"  ⚠️ Worse than average prediction\")"
   ]
  },
  {
   "cell_type": "markdown",
   "metadata": {},
   "source": [
    "## Step 11: Feature Importance\n",
    "Which features matter most for predicting price?"
   ]
  },
  {
   "cell_type": "code",
   "execution_count": 12,
   "metadata": {},
   "outputs": [
    {
     "name": "stdout",
     "output_type": "stream",
     "text": [
      "🔍 Feature Importance:\n",
      "========================================\n",
      "📊 Avg. Area Income:\n",
      "   slightly increases price (coefficient: 22)\n",
      "\n",
      "📊 Avg. Area House Age:\n",
      "   strongly increases price (coefficient: 164,666)\n",
      "\n",
      "📊 Avg. Area Number of Rooms:\n",
      "   strongly increases price (coefficient: 119,624)\n",
      "\n",
      "📊 Avg. Area Number of Bedrooms:\n",
      "   slightly increases price (coefficient: 2,440)\n",
      "\n",
      "📊 Area Population:\n",
      "   slightly increases price (coefficient: 15)\n",
      "\n"
     ]
    }
   ],
   "source": [
    "# Get feature coefficients (how much each feature affects price)\n",
    "coefficients = model.coef_\n",
    "\n",
    "print(\"🔍 Feature Importance:\")\n",
    "print(\"=\" * 40)\n",
    "\n",
    "for feature, coef in zip(features, coefficients):\n",
    "    direction = \"increases\" if coef > 0 else \"decreases\"\n",
    "    strength = \"strongly\" if abs(coef) > 50000 else \"moderately\" if abs(coef) > 10000 else \"slightly\"\n",
    "    \n",
    "    print(f\"📊 {feature}:\")\n",
    "    print(f\"   {strength} {direction} price (coefficient: {coef:,.0f})\")\n",
    "    print()"
   ]
  },
  {
   "cell_type": "markdown",
   "metadata": {},
   "source": [
    "## 🎯 Summary\n",
    "\n",
    "**What we accomplished:**\n",
    "1. ✅ Loaded house price data\n",
    "2. ✅ Prepared features for machine learning\n",
    "3. ✅ Trained a linear regression model\n",
    "4. ✅ Made price predictions\n",
    "5. ✅ Evaluated model performance\n",
    "6. ✅ Visualized results\n",
    "\n",
    "**Key takeaways:**\n",
    "- Machine learning can predict house prices with good accuracy\n",
    "- Different features have different impacts on price\n",
    "- We can measure and visualize model performance\n",
    "- Simple models can be very effective!"
   ]
  }
 ],
 "metadata": {
  "kernelspec": {
   "display_name": "Python 3",
   "language": "python",
   "name": "python3"
  },
  "language_info": {
   "codemirror_mode": {
    "name": "ipython",
    "version": 3
   },
   "file_extension": ".py",
   "mimetype": "text/x-python",
   "name": "python",
   "nbconvert_exporter": "python",
   "pygments_lexer": "ipython3",
   "version": "3.14.0"
  }
 },
 "nbformat": 4,
 "nbformat_minor": 4
}
