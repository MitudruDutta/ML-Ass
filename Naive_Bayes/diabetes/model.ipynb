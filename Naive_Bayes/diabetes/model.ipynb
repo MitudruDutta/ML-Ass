{
 "cells": [
  {
   "cell_type": "markdown",
   "metadata": {},
   "source": [
    "# Naive Bayes: Diabetes Prediction\n",
    "\n",
    "Easy-to-understand Naive Bayes model to predict diabetes with minimal code."
   ]
  },
  {
   "cell_type": "code",
   "execution_count": 21,
   "metadata": {},
   "outputs": [],
   "source": [
    "# Import simple libraries\n",
    "import pandas as pd\n",
    "import numpy as np\n",
    "import matplotlib.pyplot as plt\n",
    "from sklearn.model_selection import train_test_split\n",
    "from sklearn.naive_bayes import GaussianNB\n",
    "from sklearn.metrics import accuracy_score, f1_score, classification_report, confusion_matrix\n",
    "import seaborn as sns"
   ]
  },
  {
   "cell_type": "markdown",
   "metadata": {},
   "source": [
    "## Load Data"
   ]
  },
  {
   "cell_type": "code",
   "execution_count": 22,
   "metadata": {},
   "outputs": [
    {
     "name": "stdout",
     "output_type": "stream",
     "text": [
      "Dataset size: 768 patients\n",
      "Features: 8\n",
      "\n",
      "First 5 rows:\n",
      "   Pregnancies  Glucose  BloodPressure  SkinThickness  Insulin   BMI  \\\n",
      "0            6      148             72             35        0  33.6   \n",
      "1            1       85             66             29        0  26.6   \n",
      "2            8      183             64              0        0  23.3   \n",
      "3            1       89             66             23       94  28.1   \n",
      "4            0      137             40             35      168  43.1   \n",
      "\n",
      "   DiabetesPedigree  Age  Outcome  \n",
      "0             0.627   50        1  \n",
      "1             0.351   31        0  \n",
      "2             0.672   32        1  \n",
      "3             0.167   21        0  \n",
      "4             2.288   33        1  \n",
      "\n",
      "Diabetes cases: 268 out of 768 (34.9%)\n"
     ]
    }
   ],
   "source": [
    "# Load diabetes dataset\n",
    "columns = ['Pregnancies', 'Glucose', 'BloodPressure', 'SkinThickness', \n",
    "           'Insulin', 'BMI', 'DiabetesPedigree', 'Age', 'Outcome']\n",
    "\n",
    "df = pd.read_csv('pima-indians-diabetes.data.csv', names=columns)\n",
    "\n",
    "print(f\"Dataset size: {df.shape[0]} patients\")\n",
    "print(f\"Features: {df.shape[1]-1}\")\n",
    "print(f\"\\nFirst 5 rows:\")\n",
    "print(df.head())\n",
    "\n",
    "print(f\"\\nDiabetes cases: {df['Outcome'].sum()} out of {len(df)} ({df['Outcome'].mean():.1%})\")"
   ]
  },
  {
   "cell_type": "markdown",
   "metadata": {},
   "source": [
    "## Prepare Data"
   ]
  },
  {
   "cell_type": "code",
   "execution_count": 23,
   "metadata": {},
   "outputs": [
    {
     "name": "stdout",
     "output_type": "stream",
     "text": [
      "Features (X): ['Pregnancies', 'Glucose', 'BloodPressure', 'SkinThickness', 'Insulin', 'BMI', 'DiabetesPedigree', 'Age']\n",
      "Target (y): 0=No Diabetes, 1=Diabetes\n",
      "\n",
      "Training data: 614 patients\n",
      "Testing data: 154 patients\n"
     ]
    }
   ],
   "source": [
    "# Separate features and target\n",
    "X = df.drop('Outcome', axis=1)  # Features (all columns except Outcome)\n",
    "y = df['Outcome']               # Target (0=No Diabetes, 1=Diabetes)\n",
    "\n",
    "print(f\"Features (X): {list(X.columns)}\")\n",
    "print(f\"Target (y): 0=No Diabetes, 1=Diabetes\")\n",
    "\n",
    "# Split into train and test sets\n",
    "X_train, X_test, y_train, y_test = train_test_split(X, y, test_size=0.2, random_state=42)\n",
    "\n",
    "print(f\"\\nTraining data: {len(X_train)} patients\")\n",
    "print(f\"Testing data: {len(X_test)} patients\")"
   ]
  },
  {
   "cell_type": "markdown",
   "metadata": {},
   "source": [
    "## Train Naive Bayes Models"
   ]
  },
  {
   "cell_type": "code",
   "execution_count": 24,
   "metadata": {},
   "outputs": [
    {
     "name": "stdout",
     "output_type": "stream",
     "text": [
      "========================================\n",
      "NAIVE BAYES RESULTS\n",
      "========================================\n",
      "Accuracy: 0.766 (76.6%)\n",
      "F1-Score: 0.684\n",
      "✅ Good performance!\n"
     ]
    }
   ],
   "source": [
    "# Create and train Gaussian Naive Bayes model\n",
    "model = GaussianNB()\n",
    "model.fit(X_train, y_train)\n",
    "\n",
    "# Make predictions\n",
    "y_pred = model.predict(X_test)\n",
    "\n",
    "# Calculate accuracy and F1-score\n",
    "accuracy = accuracy_score(y_test, y_pred)\n",
    "f1 = f1_score(y_test, y_pred)\n",
    "\n",
    "print(\"=\" * 40)\n",
    "print(\"NAIVE BAYES RESULTS\")\n",
    "print(\"=\" * 40)\n",
    "print(f\"Accuracy: {accuracy:.3f} ({accuracy*100:.1f}%)\")\n",
    "print(f\"F1-Score: {f1:.3f}\")\n",
    "\n",
    "if accuracy > 0.75:\n",
    "    print(\"✅ Good performance!\")\n",
    "else:\n",
    "    print(\"⚠️ Could be better\")"
   ]
  },
  {
   "cell_type": "markdown",
   "metadata": {},
   "source": [
    "## Detailed Results"
   ]
  },
  {
   "cell_type": "code",
   "execution_count": 25,
   "metadata": {},
   "outputs": [
    {
     "name": "stdout",
     "output_type": "stream",
     "text": [
      "Classification Report:\n",
      "              precision    recall  f1-score   support\n",
      "\n",
      " No Diabetes       0.83      0.80      0.81        99\n",
      "    Diabetes       0.66      0.71      0.68        55\n",
      "\n",
      "    accuracy                           0.77       154\n",
      "   macro avg       0.75      0.75      0.75       154\n",
      "weighted avg       0.77      0.77      0.77       154\n",
      "\n",
      "\n",
      "Confusion Matrix:\n",
      "                 Predicted\n",
      "Actual    No Diabetes  Diabetes\n",
      "No Diabetes     79         20\n",
      "Diabetes        16         39\n"
     ]
    }
   ],
   "source": [
    "# Show detailed results\n",
    "print(\"Classification Report:\")\n",
    "print(classification_report(y_test, y_pred, target_names=['No Diabetes', 'Diabetes']))\n",
    "\n",
    "# Show confusion matrix\n",
    "cm = confusion_matrix(y_test, y_pred)\n",
    "print(f\"\\nConfusion Matrix:\")\n",
    "print(f\"                 Predicted\")\n",
    "print(f\"Actual    No Diabetes  Diabetes\")\n",
    "print(f\"No Diabetes    {cm[0,0]:3d}        {cm[0,1]:3d}\")\n",
    "print(f\"Diabetes       {cm[1,0]:3d}        {cm[1,1]:3d}\")"
   ]
  },
  {
   "cell_type": "markdown",
   "metadata": {},
   "source": [
    "## Visualizations"
   ]
  },
  {
   "cell_type": "code",
   "execution_count": 26,
   "metadata": {},
   "outputs": [
    {
     "data": {
      "image/png": "[encoded data removed]",
      "text/plain": [
       "<Figure size 1500x500 with 4 Axes>"
      ]
     },
     "metadata": {},
     "output_type": "display_data"
    }
   ],
   "source": [
    "# Create simple visualizations\n",
    "fig, axes = plt.subplots(1, 3, figsize=(15, 5))\n",
    "\n",
    "# 1. Diabetes distribution\n",
    "diabetes_counts = df['Outcome'].value_counts()\n",
    "axes[0].bar(['No Diabetes', 'Diabetes'], diabetes_counts.values, color=['blue', 'red'], alpha=0.7)\n",
    "axes[0].set_title('Diabetes Distribution')\n",
    "axes[0].set_ylabel('Number of Patients')\n",
    "\n",
    "# 2. Confusion matrix heatmap\n",
    "sns.heatmap(cm, annot=True, fmt='d', cmap='Blues', ax=axes[1],\n",
    "            xticklabels=['No Diabetes', 'Diabetes'],\n",
    "            yticklabels=['No Diabetes', 'Diabetes'])\n",
    "axes[1].set_title('Confusion Matrix')\n",
    "axes[1].set_xlabel('Predicted')\n",
    "axes[1].set_ylabel('Actual')\n",
    "\n",
    "# 3. Glucose levels by diabetes status\n",
    "no_diabetes = df[df['Outcome'] == 0]['Glucose']\n",
    "diabetes = df[df['Outcome'] == 1]['Glucose']\n",
    "\n",
    "axes[2].hist(no_diabetes, bins=20, alpha=0.7, label='No Diabetes', color='blue')\n",
    "axes[2].hist(diabetes, bins=20, alpha=0.7, label='Diabetes', color='red')\n",
    "axes[2].set_title('Glucose Levels')\n",
    "axes[2].set_xlabel('Glucose Level')\n",
    "axes[2].set_ylabel('Number of Patients')\n",
    "axes[2].legend()\n",
    "\n",
    "plt.tight_layout()\n",
    "plt.show()"
   ]
  },
  {
   "cell_type": "markdown",
   "metadata": {},
   "source": [
    "## Test with New Patients"
   ]
  },
  {
   "cell_type": "code",
   "execution_count": 27,
   "metadata": {},
   "outputs": [
    {
     "name": "stdout",
     "output_type": "stream",
     "text": [
      "==================================================\n",
      "TESTING WITH NEW PATIENTS\n",
      "==================================================\n",
      "\n",
      "Patient 1 (Young Healthy):\n",
      "  Age: 30.0, Glucose: 100.0, BMI: 25.0\n",
      "  Prediction: No Diabetes\n",
      "  Confidence: 97.8%\n",
      "\n",
      "Patient 2 (High Risk):\n",
      "  Age: 50.0, Glucose: 180.0, BMI: 35.0\n",
      "  Prediction: Diabetes\n",
      "  Confidence: 99.0%\n",
      "\n",
      "Patient 3 (Middle-aged):\n",
      "  Age: 45.0, Glucose: 150.0, BMI: 32.0\n",
      "  Prediction: Diabetes\n",
      "  Confidence: 85.6%\n"
     ]
    }
   ],
   "source": [
    "# Test model with example patients\n",
    "print(\"=\" * 50)\n",
    "print(\"TESTING WITH NEW PATIENTS\")\n",
    "print(\"=\" * 50)\n",
    "\n",
    "# Create example patients\n",
    "new_patients = pd.DataFrame({\n",
    "    'Pregnancies': [2, 0, 8],\n",
    "    'Glucose': [100, 180, 150],\n",
    "    'BloodPressure': [70, 90, 85],\n",
    "    'SkinThickness': [20, 35, 30],\n",
    "    'Insulin': [80, 200, 150],\n",
    "    'BMI': [25.0, 35.0, 32.0],\n",
    "    'DiabetesPedigree': [0.3, 1.2, 0.8],\n",
    "    'Age': [30, 50, 45]\n",
    "})\n",
    "\n",
    "# Make predictions\n",
    "predictions = model.predict(new_patients)\n",
    "probabilities = model.predict_proba(new_patients)\n",
    "\n",
    "# Show results\n",
    "patient_names = ['Young Healthy', 'High Risk', 'Middle-aged']\n",
    "\n",
    "for i in range(len(new_patients)):\n",
    "    result = \"Diabetes\" if predictions[i] == 1 else \"No Diabetes\"\n",
    "    confidence = max(probabilities[i]) * 100\n",
    "    \n",
    "    print(f\"\\nPatient {i+1} ({patient_names[i]}):\")\n",
    "    print(f\"  Age: {new_patients.iloc[i]['Age']}, Glucose: {new_patients.iloc[i]['Glucose']}, BMI: {new_patients.iloc[i]['BMI']}\")\n",
    "    print(f\"  Prediction: {result}\")\n",
    "    print(f\"  Confidence: {confidence:.1f}%\")"
   ]
  },
  {
   "cell_type": "markdown",
   "metadata": {},
   "source": [
    "## Summary"
   ]
  },
  {
   "cell_type": "code",
   "execution_count": 29,
   "metadata": {},
   "outputs": [
    {
     "name": "stdout",
     "output_type": "stream",
     "text": [
      "==================================================\n",
      "SIMPLE NAIVE BAYES SUMMARY\n",
      "==================================================\n",
      "📊 Dataset: 768 patients\n",
      "🎯 Algorithm: Gaussian Naive Bayes\n",
      "📈 Accuracy: 0.766 (76.6%)\n",
      "📈 F1-Score: 0.684\n"
     ]
    }
   ],
   "source": [
    "print(\"=\" * 50)\n",
    "print(\"SIMPLE NAIVE BAYES SUMMARY\")\n",
    "print(\"=\" * 50)\n",
    "print(f\"📊 Dataset: {len(df)} patients\")\n",
    "print(f\"🎯 Algorithm: Gaussian Naive Bayes\")\n",
    "print(f\"📈 Accuracy: {accuracy:.3f} ({accuracy*100:.1f}%)\")\n",
    "print(f\"📈 F1-Score: {f1:.3f}\")\n"
   ]
  }
 ],
 "metadata": {
  "kernelspec": {
   "display_name": "Python 3",
   "language": "python",
   "name": "python3"
  },
  "language_info": {
   "codemirror_mode": {
    "name": "ipython",
    "version": 3
   },
   "file_extension": ".py",
   "mimetype": "text/x-python",
   "name": "python",
   "nbconvert_exporter": "python",
   "version": "3.14.0"
  }
 },
 "nbformat": 4,
 "nbformat_minor": 4
}
